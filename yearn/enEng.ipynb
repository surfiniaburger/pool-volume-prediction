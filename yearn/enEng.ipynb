{
 "cells": [
  {
   "cell_type": "code",
   "execution_count": 1,
   "metadata": {},
   "outputs": [
    {
     "name": "stdout",
     "output_type": "stream",
     "text": [
      "Requirement already satisfied: numpy in c:\\users\\ccl\\appdata\\local\\packages\\pythonsoftwarefoundation.python.3.11_qbz5n2kfra8p0\\localcache\\local-packages\\python311\\site-packages (1.25.0)\n"
     ]
    },
    {
     "name": "stderr",
     "output_type": "stream",
     "text": [
      "\n",
      "[notice] A new release of pip is available: 23.3.1 -> 24.0\n",
      "[notice] To update, run: C:\\Users\\CCL\\AppData\\Local\\Microsoft\\WindowsApps\\PythonSoftwareFoundation.Python.3.11_qbz5n2kfra8p0\\python.exe -m pip install --upgrade pip\n"
     ]
    },
    {
     "name": "stdout",
     "output_type": "stream",
     "text": [
      "Requirement already satisfied: torch in c:\\users\\ccl\\appdata\\local\\packages\\pythonsoftwarefoundation.python.3.11_qbz5n2kfra8p0\\localcache\\local-packages\\python311\\site-packages (2.2.0)\n",
      "Requirement already satisfied: filelock in c:\\users\\ccl\\appdata\\local\\packages\\pythonsoftwarefoundation.python.3.11_qbz5n2kfra8p0\\localcache\\local-packages\\python311\\site-packages (from torch) (3.13.1)\n",
      "Requirement already satisfied: typing-extensions>=4.8.0 in c:\\users\\ccl\\appdata\\local\\packages\\pythonsoftwarefoundation.python.3.11_qbz5n2kfra8p0\\localcache\\local-packages\\python311\\site-packages (from torch) (4.9.0)\n",
      "Requirement already satisfied: sympy in c:\\users\\ccl\\appdata\\local\\packages\\pythonsoftwarefoundation.python.3.11_qbz5n2kfra8p0\\localcache\\local-packages\\python311\\site-packages (from torch) (1.12)\n",
      "Requirement already satisfied: networkx in c:\\users\\ccl\\appdata\\local\\packages\\pythonsoftwarefoundation.python.3.11_qbz5n2kfra8p0\\localcache\\local-packages\\python311\\site-packages (from torch) (3.2.1)\n",
      "Requirement already satisfied: jinja2 in c:\\users\\ccl\\appdata\\local\\packages\\pythonsoftwarefoundation.python.3.11_qbz5n2kfra8p0\\localcache\\local-packages\\python311\\site-packages (from torch) (3.1.2)\n",
      "Requirement already satisfied: fsspec in c:\\users\\ccl\\appdata\\local\\packages\\pythonsoftwarefoundation.python.3.11_qbz5n2kfra8p0\\localcache\\local-packages\\python311\\site-packages (from torch) (2023.12.2)\n",
      "Requirement already satisfied: MarkupSafe>=2.0 in c:\\users\\ccl\\appdata\\local\\packages\\pythonsoftwarefoundation.python.3.11_qbz5n2kfra8p0\\localcache\\local-packages\\python311\\site-packages (from jinja2->torch) (2.1.3)\n",
      "Requirement already satisfied: mpmath>=0.19 in c:\\users\\ccl\\appdata\\local\\packages\\pythonsoftwarefoundation.python.3.11_qbz5n2kfra8p0\\localcache\\local-packages\\python311\\site-packages (from sympy->torch) (1.3.0)\n"
     ]
    },
    {
     "name": "stderr",
     "output_type": "stream",
     "text": [
      "\n",
      "[notice] A new release of pip is available: 23.3.1 -> 24.0\n",
      "[notice] To update, run: C:\\Users\\CCL\\AppData\\Local\\Microsoft\\WindowsApps\\PythonSoftwareFoundation.Python.3.11_qbz5n2kfra8p0\\python.exe -m pip install --upgrade pip\n"
     ]
    },
    {
     "name": "stdout",
     "output_type": "stream",
     "text": [
      "Requirement already satisfied: scikit-learn in c:\\users\\ccl\\appdata\\local\\packages\\pythonsoftwarefoundation.python.3.11_qbz5n2kfra8p0\\localcache\\local-packages\\python311\\site-packages (1.4.1.post1)\n",
      "Requirement already satisfied: numpy<2.0,>=1.19.5 in c:\\users\\ccl\\appdata\\local\\packages\\pythonsoftwarefoundation.python.3.11_qbz5n2kfra8p0\\localcache\\local-packages\\python311\\site-packages (from scikit-learn) (1.25.0)\n",
      "Requirement already satisfied: scipy>=1.6.0 in c:\\users\\ccl\\appdata\\local\\packages\\pythonsoftwarefoundation.python.3.11_qbz5n2kfra8p0\\localcache\\local-packages\\python311\\site-packages (from scikit-learn) (1.12.0)\n",
      "Requirement already satisfied: joblib>=1.2.0 in c:\\users\\ccl\\appdata\\local\\packages\\pythonsoftwarefoundation.python.3.11_qbz5n2kfra8p0\\localcache\\local-packages\\python311\\site-packages (from scikit-learn) (1.3.2)\n",
      "Requirement already satisfied: threadpoolctl>=2.0.0 in c:\\users\\ccl\\appdata\\local\\packages\\pythonsoftwarefoundation.python.3.11_qbz5n2kfra8p0\\localcache\\local-packages\\python311\\site-packages (from scikit-learn) (3.3.0)\n"
     ]
    },
    {
     "name": "stderr",
     "output_type": "stream",
     "text": [
      "\n",
      "[notice] A new release of pip is available: 23.3.1 -> 24.0\n",
      "[notice] To update, run: C:\\Users\\CCL\\AppData\\Local\\Microsoft\\WindowsApps\\PythonSoftwareFoundation.Python.3.11_qbz5n2kfra8p0\\python.exe -m pip install --upgrade pip\n"
     ]
    },
    {
     "name": "stdout",
     "output_type": "stream",
     "text": [
      "Requirement already satisfied: panda in c:\\users\\ccl\\appdata\\local\\packages\\pythonsoftwarefoundation.python.3.11_qbz5n2kfra8p0\\localcache\\local-packages\\python311\\site-packages (0.3.1)\n",
      "Requirement already satisfied: setuptools in c:\\program files\\windowsapps\\pythonsoftwarefoundation.python.3.11_3.11.2288.0_x64__qbz5n2kfra8p0\\lib\\site-packages (from panda) (65.5.0)\n",
      "Requirement already satisfied: requests in c:\\users\\ccl\\appdata\\local\\packages\\pythonsoftwarefoundation.python.3.11_qbz5n2kfra8p0\\localcache\\local-packages\\python311\\site-packages (from panda) (2.31.0)\n",
      "Requirement already satisfied: charset-normalizer<4,>=2 in c:\\users\\ccl\\appdata\\local\\packages\\pythonsoftwarefoundation.python.3.11_qbz5n2kfra8p0\\localcache\\local-packages\\python311\\site-packages (from requests->panda) (3.3.1)\n",
      "Requirement already satisfied: idna<4,>=2.5 in c:\\users\\ccl\\appdata\\local\\packages\\pythonsoftwarefoundation.python.3.11_qbz5n2kfra8p0\\localcache\\local-packages\\python311\\site-packages (from requests->panda) (3.4)\n",
      "Requirement already satisfied: urllib3<3,>=1.21.1 in c:\\users\\ccl\\appdata\\local\\packages\\pythonsoftwarefoundation.python.3.11_qbz5n2kfra8p0\\localcache\\local-packages\\python311\\site-packages (from requests->panda) (2.0.7)\n",
      "Requirement already satisfied: certifi>=2017.4.17 in c:\\users\\ccl\\appdata\\local\\packages\\pythonsoftwarefoundation.python.3.11_qbz5n2kfra8p0\\localcache\\local-packages\\python311\\site-packages (from requests->panda) (2023.7.22)\n"
     ]
    },
    {
     "name": "stderr",
     "output_type": "stream",
     "text": [
      "\n",
      "[notice] A new release of pip is available: 23.3.1 -> 24.0\n",
      "[notice] To update, run: C:\\Users\\CCL\\AppData\\Local\\Microsoft\\WindowsApps\\PythonSoftwareFoundation.Python.3.11_qbz5n2kfra8p0\\python.exe -m pip install --upgrade pip\n"
     ]
    }
   ],
   "source": [
    "!pip install numpy\n",
    "!pip install torch\n",
    "!pip install -U scikit-learn\n",
    "!pip install panda"
   ]
  },
  {
   "cell_type": "code",
   "execution_count": 7,
   "metadata": {},
   "outputs": [
    {
     "name": "stderr",
     "output_type": "stream",
     "text": [
      "C:\\Users\\CCL\\AppData\\Local\\Temp\\ipykernel_22452\\2400028415.py:58: SettingWithCopyWarning: \n",
      "A value is trying to be set on a copy of a slice from a DataFrame.\n",
      "Try using .loc[row_indexer,col_indexer] = value instead\n",
      "\n",
      "See the caveats in the documentation: https://pandas.pydata.org/pandas-docs/stable/user_guide/indexing.html#returning-a-view-versus-a-copy\n",
      "  features['evt_block_time'] = pd.to_datetime(features['evt_block_time'])\n",
      "C:\\Users\\CCL\\AppData\\Local\\Temp\\ipykernel_22452\\2400028415.py:61: SettingWithCopyWarning: \n",
      "A value is trying to be set on a copy of a slice from a DataFrame.\n",
      "Try using .loc[row_indexer,col_indexer] = value instead\n",
      "\n",
      "See the caveats in the documentation: https://pandas.pydata.org/pandas-docs/stable/user_guide/indexing.html#returning-a-view-versus-a-copy\n",
      "  features['hour_of_day'] = features['evt_block_time'].dt.hour\n",
      "C:\\Users\\CCL\\AppData\\Local\\Temp\\ipykernel_22452\\2400028415.py:62: SettingWithCopyWarning: \n",
      "A value is trying to be set on a copy of a slice from a DataFrame.\n",
      "Try using .loc[row_indexer,col_indexer] = value instead\n",
      "\n",
      "See the caveats in the documentation: https://pandas.pydata.org/pandas-docs/stable/user_guide/indexing.html#returning-a-view-versus-a-copy\n",
      "  features['day_of_week'] = features['evt_block_time'].dt.dayofweek\n",
      "C:\\Users\\CCL\\AppData\\Local\\Temp\\ipykernel_22452\\2400028415.py:63: SettingWithCopyWarning: \n",
      "A value is trying to be set on a copy of a slice from a DataFrame.\n",
      "Try using .loc[row_indexer,col_indexer] = value instead\n",
      "\n",
      "See the caveats in the documentation: https://pandas.pydata.org/pandas-docs/stable/user_guide/indexing.html#returning-a-view-versus-a-copy\n",
      "  features['month'] = features['evt_block_time'].dt.month\n"
     ]
    },
    {
     "name": "stdout",
     "output_type": "stream",
     "text": [
      "Epoch [10/50], Loss: 1303153201049600.0000\n",
      "Epoch [20/50], Loss: 1303118644716288.0000\n",
      "Epoch [30/50], Loss: 1303104787204864.0000\n",
      "Epoch [40/50], Loss: 1303112166520064.0000\n",
      "Epoch [50/50], Loss: 1303119832615552.0000\n",
      "Epoch [10/50], Loss: 1303159870256896.0000\n",
      "Epoch [20/50], Loss: 1303126632371712.0000\n",
      "Epoch [30/50], Loss: 1303159195200768.0000\n",
      "Epoch [40/50], Loss: 1303108128784896.0000\n",
      "Epoch [50/50], Loss: 1303102814770944.0000\n",
      "Epoch [10/50], Loss: 1303337521751680.0000\n",
      "Epoch [20/50], Loss: 1303131024423936.0000\n",
      "Epoch [30/50], Loss: 1303114061883392.0000\n",
      "Epoch [40/50], Loss: 1303106686244352.0000\n",
      "Epoch [50/50], Loss: 1303099528033536.0000\n",
      "Epoch [10/50], Loss: 1303182713294080.0000\n",
      "Epoch [20/50], Loss: 1303229939470336.0000\n",
      "Epoch [30/50], Loss: 1303124854963456.0000\n",
      "Epoch [40/50], Loss: 1303111658442752.0000\n",
      "Epoch [50/50], Loss: 1303103888573440.0000\n",
      "Epoch [10/50], Loss: 1303347298149632.0000\n",
      "Epoch [20/50], Loss: 1303210873505792.0000\n",
      "Epoch [30/50], Loss: 1303112672585472.0000\n",
      "Epoch [40/50], Loss: 1303145775394816.0000\n",
      "Epoch [50/50], Loss: 1303105056384000.0000\n",
      "Ensemble RMSE: 572102.9831133474\n"
     ]
    }
   ],
   "source": [
    "from sklearn.model_selection import train_test_split\n",
    "from torch.utils.data import DataLoader, TensorDataset\n",
    "import torch\n",
    "import torch.nn as nn\n",
    "import torch.optim as optim\n",
    "import numpy as np\n",
    "import pandas as pd\n",
    "from sklearn.ensemble import RandomForestRegressor\n",
    "from sklearn.metrics import mean_squared_error\n",
    "from giza_datasets import DatasetsHub, DatasetsLoader\n",
    "from sklearn.model_selection import KFold\n",
    "\n",
    "# Define the number of folds\n",
    "num_folds = 5\n",
    "\n",
    "# Initialize k-fold cross-validation\n",
    "kf = KFold(n_splits=num_folds, shuffle=True)\n",
    "\n",
    "# Load the dataset using DatasetsLoader\n",
    "loader = DatasetsLoader()\n",
    "df_polar = loader.load('yearn-individual-deposits')\n",
    "df = df_polar.to_pandas()\n",
    "\n",
    "# Define neural network parameters\n",
    "input_size = 6\n",
    "hidden_size1 = 64\n",
    "hidden_size2 = 32\n",
    "output_size = 1\n",
    "learning_rate = 0.001\n",
    "batch_size = 128\n",
    "num_epochs = 50\n",
    "\n",
    "# Define device\n",
    "device = torch.device(\"cuda\" if torch.cuda.is_available() else \"cpu\")\n",
    "\n",
    "class NeuralNet(nn.Module):\n",
    "    def __init__(self, input_size, hidden_size1, hidden_size2, output_size):\n",
    "        super(NeuralNet, self).__init__()\n",
    "        self.fc1 = nn.Linear(input_size, hidden_size1)\n",
    "        self.relu1 = nn.ReLU()\n",
    "        self.fc2 = nn.Linear(hidden_size1, hidden_size2)\n",
    "        self.relu2 = nn.ReLU()\n",
    "        self.fc3 = nn.Linear(hidden_size2, output_size)\n",
    "\n",
    "    def forward(self, x):\n",
    "        out = self.fc1(x)\n",
    "        out = self.relu1(out)\n",
    "        out = self.fc2(out)\n",
    "        out = self.relu2(out)\n",
    "        out = self.fc3(out)\n",
    "        return out\n",
    "\n",
    "# Prepare features and target\n",
    "features = df[['evt_block_number', 'token_decimals', 'evt_block_time']]\n",
    "target = df['value']\n",
    "\n",
    "# Convert 'evt_block_time' to datetime\n",
    "features['evt_block_time'] = pd.to_datetime(features['evt_block_time'])\n",
    "\n",
    "# Extract time-based features\n",
    "features['hour_of_day'] = features['evt_block_time'].dt.hour\n",
    "features['day_of_week'] = features['evt_block_time'].dt.dayofweek\n",
    "features['month'] = features['evt_block_time'].dt.month\n",
    "\n",
    "# Drop 'evt_block_time'\n",
    "features = features.drop(columns=['evt_block_time'])\n",
    "\n",
    "# Encode 'token_contract_address' as categorical\n",
    "unique_addresses = sorted(set(df['token_contract_address']))\n",
    "address_to_label = {addr: i for i, addr in enumerate(unique_addresses)}\n",
    "encoded_addresses = [address_to_label[addr] for addr in df['token_contract_address']]\n",
    "features['token_contract_address'] = encoded_addresses\n",
    "\n",
    "# Split the data into training and testing sets\n",
    "x_train, x_test, y_train, y_test = train_test_split(features, target, test_size=0.2, random_state=42)\n",
    "\n",
    "# Train multiple instances of the neural network model\n",
    "models = []\n",
    "for _ in range(5):  # Number of models in the ensemble\n",
    "    model = NeuralNet(input_size, hidden_size1, hidden_size2, output_size)\n",
    "    model.to(device)\n",
    "    optimizer = optim.Adam(model.parameters(), lr=learning_rate)\n",
    "    criterion = nn.MSELoss()\n",
    "    for epoch in range(num_epochs):\n",
    "        model.train()\n",
    "        running_loss = 0.0\n",
    "        for i in range(0, len(x_train), batch_size):\n",
    "            inputs = torch.tensor(x_train.iloc[i:i+batch_size].values).to(device)\n",
    "            labels = torch.tensor(y_train.iloc[i:i+batch_size].values).to(device)\n",
    "            optimizer.zero_grad()\n",
    "            outputs = model(inputs.float())\n",
    "            loss = criterion(outputs.flatten(), labels.float())\n",
    "            loss.backward()\n",
    "            optimizer.step()\n",
    "            running_loss += loss.item()\n",
    "        if (epoch + 1) % 10 == 0:\n",
    "            print(f'Epoch [{epoch+1}/{num_epochs}], Loss: {running_loss:.4f}')\n",
    "    models.append(model)\n",
    "\n",
    "# Aggregate predictions from each model\n",
    "ensemble_predictions = np.zeros(len(x_test))\n",
    "for model in models:\n",
    "    model.eval()\n",
    "    with torch.no_grad():\n",
    "        inputs = torch.tensor(x_test.values).to(device)\n",
    "        outputs = model(inputs.float()).cpu().numpy().flatten()\n",
    "        ensemble_predictions += outputs\n",
    "\n",
    "ensemble_predictions /= len(models)\n",
    "\n",
    "# Evaluate the ensemble\n",
    "ensemble_rmse = np.sqrt(mean_squared_error(y_test, ensemble_predictions))\n",
    "print(f'Ensemble RMSE: {ensemble_rmse}')\n"
   ]
  }
 ],
 "metadata": {
  "kernelspec": {
   "display_name": "Python 3",
   "language": "python",
   "name": "python3"
  },
  "language_info": {
   "codemirror_mode": {
    "name": "ipython",
    "version": 3
   },
   "file_extension": ".py",
   "mimetype": "text/x-python",
   "name": "python",
   "nbconvert_exporter": "python",
   "pygments_lexer": "ipython3",
   "version": "3.11.8"
  }
 },
 "nbformat": 4,
 "nbformat_minor": 2
}
